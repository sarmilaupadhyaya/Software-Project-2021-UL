{
 "cells": [
  {
   "cell_type": "code",
   "execution_count": 1,
   "id": "d8300e72",
   "metadata": {},
   "outputs": [],
   "source": [
    "import csv"
   ]
  },
  {
   "cell_type": "code",
   "execution_count": 2,
   "id": "d9d637fd",
   "metadata": {},
   "outputs": [],
   "source": [
    "phonemes = {\n",
    "    \"_\": 1,\n",
    "    \"i\": 2,\n",
    "    \"e\": 3,\n",
    "    \"E\": 4,\n",
    "    \"a\": 5,\n",
    "    \"O\": 6,\n",
    "    \"o\": 7,\n",
    "    \"u\": 8,\n",
    "    \"y\": 9,\n",
    "    \"2\": 10,\n",
    "    \"9\": 11,\n",
    "    \"@\": 12,\n",
    "    \"e~\": 13,\n",
    "    \"9~\": 14,\n",
    "    \"a~\": 15,\n",
    "    \"o~\": 16,\n",
    "    \"j\": 17,\n",
    "    \"w\": 18,\n",
    "    \"H\": 19,\n",
    "    \"p\": 20,\n",
    "    \"t\": 21,\n",
    "    \"k\": 22,\n",
    "    \"b\": 23,\n",
    "    \"d\": 24,\n",
    "    \"g\": 25,\n",
    "    \"f\": 25,\n",
    "    \"s\": 27,\n",
    "    \"S\": 28,\n",
    "    \"v\": 29,\n",
    "    \"z\": 30,\n",
    "    \"Z\": 31,\n",
    "    \"l\": 32,\n",
    "    \"R\": 33,\n",
    "    \"m\": 34,\n",
    "    \"n\": 35,\n",
    "    \"N\": 36,\n",
    "    \"G\": 37\n",
    "}"
   ]
  },
  {
   "cell_type": "code",
   "execution_count": 3,
   "id": "848efb0d",
   "metadata": {},
   "outputs": [],
   "source": [
    "file = open(\"phonemes.csv\", \"w\")\n",
    "w = csv.writer(file)"
   ]
  },
  {
   "cell_type": "code",
   "execution_count": 4,
   "id": "a815fc07",
   "metadata": {},
   "outputs": [],
   "source": [
    "for key, val in phonemes.items():\n",
    "    w.writerow([key, val])"
   ]
  },
  {
   "cell_type": "code",
   "execution_count": 5,
   "id": "dc8f2349",
   "metadata": {},
   "outputs": [],
   "source": [
    "file.close()"
   ]
  },
  {
   "cell_type": "code",
   "execution_count": 6,
   "id": "e31f50de",
   "metadata": {},
   "outputs": [],
   "source": [
    "import os"
   ]
  },
  {
   "cell_type": "code",
   "execution_count": 7,
   "id": "9eba902f",
   "metadata": {},
   "outputs": [],
   "source": [
    "path = \"part\""
   ]
  },
  {
   "cell_type": "code",
   "execution_count": 8,
   "id": "bdcff3a0",
   "metadata": {},
   "outputs": [],
   "source": [
    "def read_text_file(file_path, file):\n",
    "    with open(file_path, 'r') as f:\n",
    "        list_int = []\n",
    "        phoneme = f.read().split(' ')\n",
    "        for phone in phoneme:\n",
    "            list_int.append(str(phonemes.get(phone)))\n",
    "        new_path = file_path.split(\".txt\")[0]+\"_int.txt\"\n",
    "        new = open(new_path,\"w+\")\n",
    "        new.write(\" \".join(list_int))\n",
    "        new.close()"
   ]
  },
  {
   "cell_type": "code",
   "execution_count": 9,
   "id": "0817e557",
   "metadata": {
    "scrolled": true
   },
   "outputs": [
    {
     "data": {
      "text/plain": [
       "'/mnt/classes-so/Uni-of-Lorraine-Winter-Semester/Software-Project-2021-UL/preprocessing'"
      ]
     },
     "execution_count": 9,
     "metadata": {},
     "output_type": "execute_result"
    }
   ],
   "source": [
    "os.getcwd()"
   ]
  },
  {
   "cell_type": "code",
   "execution_count": 10,
   "id": "fae0d8ae",
   "metadata": {},
   "outputs": [
    {
     "data": {
      "text/plain": [
       "['.DS_Store',\n",
       " 'part2',\n",
       " 'part4',\n",
       " 'part1',\n",
       " 'run_all.sh',\n",
       " 'extract_phonemes.py',\n",
       " 'part5',\n",
       " 'part3',\n",
       " 'get_phonemes.pl',\n",
       " '.ipynb_checkpoints',\n",
       " 'phonemes_integer.ipynb',\n",
       " 'phonemes.csv']"
      ]
     },
     "execution_count": 10,
     "metadata": {},
     "output_type": "execute_result"
    }
   ],
   "source": [
    "os.listdir()"
   ]
  },
  {
   "cell_type": "code",
   "execution_count": 12,
   "id": "ad63678e",
   "metadata": {},
   "outputs": [
    {
     "ename": "FileNotFoundError",
     "evalue": "[Errno 2] No such file or directory: 'phonemes/part1'",
     "output_type": "error",
     "traceback": [
      "\u001b[0;31m---------------------------------------------------------------------------\u001b[0m",
      "\u001b[0;31mFileNotFoundError\u001b[0m                         Traceback (most recent call last)",
      "\u001b[0;32m<ipython-input-12-c49f7d9f06ed>\u001b[0m in \u001b[0;36m<module>\u001b[0;34m\u001b[0m\n\u001b[1;32m      1\u001b[0m \u001b[0;32mfor\u001b[0m \u001b[0mi\u001b[0m \u001b[0;32min\u001b[0m \u001b[0mrange\u001b[0m\u001b[0;34m(\u001b[0m\u001b[0;36m1\u001b[0m\u001b[0;34m,\u001b[0m\u001b[0;36m6\u001b[0m\u001b[0;34m)\u001b[0m\u001b[0;34m:\u001b[0m\u001b[0;34m\u001b[0m\u001b[0;34m\u001b[0m\u001b[0m\n\u001b[1;32m      2\u001b[0m     \u001b[0mpath\u001b[0m \u001b[0;34m=\u001b[0m \u001b[0;34m\"phonemes/\"\u001b[0m \u001b[0;34m+\u001b[0m \u001b[0;34m\"part\"\u001b[0m \u001b[0;34m+\u001b[0m \u001b[0mstr\u001b[0m\u001b[0;34m(\u001b[0m\u001b[0mi\u001b[0m\u001b[0;34m)\u001b[0m\u001b[0;34m\u001b[0m\u001b[0;34m\u001b[0m\u001b[0m\n\u001b[0;32m----> 3\u001b[0;31m     \u001b[0mos\u001b[0m\u001b[0;34m.\u001b[0m\u001b[0mchdir\u001b[0m\u001b[0;34m(\u001b[0m\u001b[0mpath\u001b[0m\u001b[0;34m)\u001b[0m\u001b[0;34m\u001b[0m\u001b[0;34m\u001b[0m\u001b[0m\n\u001b[0m\u001b[1;32m      4\u001b[0m     \u001b[0;32mfor\u001b[0m \u001b[0mfile\u001b[0m \u001b[0;32min\u001b[0m \u001b[0mos\u001b[0m\u001b[0;34m.\u001b[0m\u001b[0mlistdir\u001b[0m\u001b[0;34m(\u001b[0m\u001b[0;34m)\u001b[0m\u001b[0;34m:\u001b[0m\u001b[0;34m\u001b[0m\u001b[0;34m\u001b[0m\u001b[0m\n\u001b[1;32m      5\u001b[0m         \u001b[0;32mif\u001b[0m \u001b[0mfile\u001b[0m\u001b[0;34m.\u001b[0m\u001b[0mendswith\u001b[0m\u001b[0;34m(\u001b[0m\u001b[0;34m\".txt\"\u001b[0m\u001b[0;34m)\u001b[0m\u001b[0;34m:\u001b[0m\u001b[0;34m\u001b[0m\u001b[0;34m\u001b[0m\u001b[0m\n",
      "\u001b[0;31mFileNotFoundError\u001b[0m: [Errno 2] No such file or directory: 'phonemes/part1'"
     ]
    }
   ],
   "source": [
    "for i in range(1,6):\n",
    "    path = \"phonemes/\" + \"part\" + str(i)\n",
    "    os.chdir(path)\n",
    "    for file in os.listdir():\n",
    "        if file.endswith(\".txt\"):\n",
    "            file_path = f\"{path}/{file}\"\n",
    "            read_text_file(file_path, file)"
   ]
  },
  {
   "cell_type": "code",
   "execution_count": null,
   "id": "2c880009",
   "metadata": {},
   "outputs": [],
   "source": []
  },
  {
   "cell_type": "code",
   "execution_count": null,
   "id": "24640566",
   "metadata": {},
   "outputs": [],
   "source": []
  },
  {
   "cell_type": "code",
   "execution_count": null,
   "id": "31a0b3ad",
   "metadata": {},
   "outputs": [],
   "source": []
  },
  {
   "cell_type": "code",
   "execution_count": null,
   "id": "89559950",
   "metadata": {},
   "outputs": [],
   "source": []
  },
  {
   "cell_type": "code",
   "execution_count": null,
   "id": "a61bd074",
   "metadata": {},
   "outputs": [],
   "source": []
  }
 ],
 "metadata": {
  "kernelspec": {
   "display_name": "Python 3",
   "language": "python",
   "name": "python3"
  },
  "language_info": {
   "codemirror_mode": {
    "name": "ipython",
    "version": 3
   },
   "file_extension": ".py",
   "mimetype": "text/x-python",
   "name": "python",
   "nbconvert_exporter": "python",
   "pygments_lexer": "ipython3",
   "version": "3.8.10"
  }
 },
 "nbformat": 4,
 "nbformat_minor": 5
}
