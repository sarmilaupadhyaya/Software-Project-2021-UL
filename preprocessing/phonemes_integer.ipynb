{
 "cells": [
  {
   "cell_type": "code",
   "execution_count": 8,
   "id": "d8300e72",
   "metadata": {},
   "outputs": [],
   "source": [
    "import csv"
   ]
  },
  {
   "cell_type": "code",
   "execution_count": 14,
   "id": "d9d637fd",
   "metadata": {},
   "outputs": [],
   "source": [
    "phonemes = {\n",
    "    \"_\": 1,\n",
    "    \"i\": 2,\n",
    "    \"e\": 3,\n",
    "    \"E\": 4,\n",
    "    \"a\": 5,\n",
    "    \"O\": 6,\n",
    "    \"o\": 7,\n",
    "    \"u\": 8,\n",
    "    \"y\": 9,\n",
    "    \"2\": 10,\n",
    "    \"9\": 11,\n",
    "    \"@\": 12,\n",
    "    \"e~\": 13,\n",
    "    \"9~\": 14,\n",
    "    \"a~\": 15,\n",
    "    \"o~\": 16,\n",
    "    \"j\": 17,\n",
    "    \"w\": 18,\n",
    "    \"H\": 19,\n",
    "    \"p\": 20,\n",
    "    \"t\": 21,\n",
    "    \"k\": 22,\n",
    "    \"b\": 23,\n",
    "    \"d\": 24,\n",
    "    \"g\": 25,\n",
    "    \"f\": 25,\n",
    "    \"s\": 27,\n",
    "    \"S\": 28,\n",
    "    \"v\": 29,\n",
    "    \"z\": 30,\n",
    "    \"Z\": 31,\n",
    "    \"l\": 32,\n",
    "    \"R\": 33,\n",
    "    \"m\": 34,\n",
    "    \"n\": 35,\n",
    "    \"N\": 36,\n",
    "    \"G\": 37\n",
    "}"
   ]
  },
  {
   "cell_type": "code",
   "execution_count": 18,
   "id": "848efb0d",
   "metadata": {},
   "outputs": [],
   "source": [
    "file = open(\"phonemes.csv\", \"w\")\n",
    "w = csv.writer(file)"
   ]
  },
  {
   "cell_type": "code",
   "execution_count": 19,
   "id": "a815fc07",
   "metadata": {},
   "outputs": [],
   "source": [
    "for key, val in phonemes.items():\n",
    "    w.writerow([key, val])"
   ]
  },
  {
   "cell_type": "code",
   "execution_count": 20,
   "id": "dc8f2349",
   "metadata": {},
   "outputs": [],
   "source": [
    "file.close()"
   ]
  },
  {
   "cell_type": "code",
   "execution_count": 165,
   "id": "e31f50de",
   "metadata": {},
   "outputs": [],
   "source": [
    "import os"
   ]
  },
  {
   "cell_type": "code",
   "execution_count": 166,
   "id": "9eba902f",
   "metadata": {},
   "outputs": [],
   "source": [
    "path = \"part\""
   ]
  },
  {
   "cell_type": "code",
   "execution_count": 167,
   "id": "bdcff3a0",
   "metadata": {},
   "outputs": [],
   "source": [
    "def read_text_file(file_path, file):\n",
    "    with open(file_path, 'r') as f:\n",
    "        list_int = []\n",
    "        phoneme = f.read().split(' ')\n",
    "        for phone in phoneme:\n",
    "            list_int.append(str(phonemes.get(phone)))\n",
    "        new_path = file_path.split(\".txt\")[0]+\"_int.txt\"\n",
    "        new = open(new_path,\"w+\")\n",
    "        new.write(\" \".join(list_int))\n",
    "        new.close()"
   ]
  },
  {
   "cell_type": "code",
   "execution_count": 168,
   "id": "0817e557",
   "metadata": {
    "scrolled": true
   },
   "outputs": [
    {
     "data": {
      "text/plain": [
       "'/Users/claesia/Documents/Software Project/phonemes/part5'"
      ]
     },
     "execution_count": 168,
     "metadata": {},
     "output_type": "execute_result"
    }
   ],
   "source": [
    "os.getcwd()"
   ]
  },
  {
   "cell_type": "code",
   "execution_count": 169,
   "id": "fae0d8ae",
   "metadata": {},
   "outputs": [
    {
     "data": {
      "text/plain": [
       "['expr_chap_s01_0003.txt',\n",
       " 'expr_chap_s01_0002.txt',\n",
       " 'expr_chap_s01_0001.txt',\n",
       " 'expr_chap_s01_0011.txt',\n",
       " 'expr_chap_s01_0005.txt',\n",
       " '.DS_Store',\n",
       " 'expr_chap_s01_0004.txt',\n",
       " 'expr_chap_s01_0010.txt',\n",
       " 'expr_chap_s01_0006.txt',\n",
       " 'expr_chap_s01_0012.txt',\n",
       " 'expr_chap_s01_0013.txt',\n",
       " 'expr_chap_s01_0007.txt',\n",
       " 'expr_chap_s01_0009.txt',\n",
       " 'expr_chap_s01_0008.txt']"
      ]
     },
     "execution_count": 169,
     "metadata": {},
     "output_type": "execute_result"
    }
   ],
   "source": [
    "os.listdir()"
   ]
  },
  {
   "cell_type": "code",
   "execution_count": 170,
   "id": "ad63678e",
   "metadata": {},
   "outputs": [],
   "source": [
    "for i in range(1,6):\n",
    "    path = \"/Users/claesia/Documents/Software Project/phonemes/\" + \"part\" + str(i)\n",
    "    os.chdir(path)\n",
    "    for file in os.listdir():\n",
    "        if file.endswith(\".txt\"):\n",
    "            file_path = f\"{path}/{file}\"\n",
    "            read_text_file(file_path, file)"
   ]
  },
  {
   "cell_type": "code",
   "execution_count": null,
   "id": "2c880009",
   "metadata": {},
   "outputs": [],
   "source": []
  },
  {
   "cell_type": "code",
   "execution_count": null,
   "id": "24640566",
   "metadata": {},
   "outputs": [],
   "source": []
  },
  {
   "cell_type": "code",
   "execution_count": null,
   "id": "31a0b3ad",
   "metadata": {},
   "outputs": [],
   "source": []
  },
  {
   "cell_type": "code",
   "execution_count": null,
   "id": "89559950",
   "metadata": {},
   "outputs": [],
   "source": []
  },
  {
   "cell_type": "code",
   "execution_count": null,
   "id": "a61bd074",
   "metadata": {},
   "outputs": [],
   "source": []
  }
 ],
 "metadata": {
  "kernelspec": {
   "display_name": "Python 3 (ipykernel)",
   "language": "python",
   "name": "python3"
  },
  "language_info": {
   "codemirror_mode": {
    "name": "ipython",
    "version": 3
   },
   "file_extension": ".py",
   "mimetype": "text/x-python",
   "name": "python",
   "nbconvert_exporter": "python",
   "pygments_lexer": "ipython3",
   "version": "3.8.12"
  }
 },
 "nbformat": 4,
 "nbformat_minor": 5
}
